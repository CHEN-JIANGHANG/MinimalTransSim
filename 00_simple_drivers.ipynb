{
 "cells": [
  {
   "cell_type": "code",
   "execution_count": 1,
   "metadata": {
    "collapsed": false
   },
   "outputs": [
    {
     "data": {
      "text/plain": [
       "'BASIC SCENARIO, NO MATCHING, NO PASSENGER, ONLY DRIVERS'"
      ]
     },
     "execution_count": 1,
     "metadata": {},
     "output_type": "execute_result"
    }
   ],
   "source": [
    "\"\"\"BASIC SCENARIO, NO MATCHING, NO PASSENGER, ONLY DRIVERS\"\"\"\n",
    "\n",
    "\n",
    "\n",
    "\n",
    "#DRAW NOT UPDATED"
   ]
  },
  {
   "cell_type": "code",
   "execution_count": 1,
   "metadata": {
    "collapsed": false
   },
   "outputs": [
    {
     "ename": "ImportError",
     "evalue": "No module named 'system'",
     "output_type": "error",
     "traceback": [
      "\u001b[1;31m---------------------------------------------------------------------------\u001b[0m",
      "\u001b[1;31mImportError\u001b[0m                               Traceback (most recent call last)",
      "\u001b[1;32m<ipython-input-1-77d55e2c73f6>\u001b[0m in \u001b[0;36m<module>\u001b[1;34m()\u001b[0m\n\u001b[0;32m      1\u001b[0m \u001b[1;31m# modules\u001b[0m\u001b[1;33m\u001b[0m\u001b[1;33m\u001b[0m\u001b[0m\n\u001b[0;32m      2\u001b[0m \u001b[1;32mimport\u001b[0m \u001b[0mCircleNet\u001b[0m\u001b[1;33m\u001b[0m\u001b[0m\n\u001b[1;32m----> 3\u001b[1;33m \u001b[1;32mfrom\u001b[0m \u001b[0msystem\u001b[0m \u001b[1;32mimport\u001b[0m \u001b[1;33m*\u001b[0m\u001b[1;33m\u001b[0m\u001b[0m\n\u001b[0m\u001b[0;32m      4\u001b[0m \u001b[1;32mfrom\u001b[0m \u001b[0mshape\u001b[0m \u001b[1;32mimport\u001b[0m \u001b[1;33m*\u001b[0m\u001b[1;33m\u001b[0m\u001b[0m\n",
      "\u001b[1;31mImportError\u001b[0m: No module named 'system'"
     ]
    }
   ],
   "source": [
    "# modules\n",
    "from system import *\n",
    "from shape import *\n"
   ]
  },
  {
   "cell_type": "code",
   "execution_count": 7,
   "metadata": {
    "collapsed": true
   },
   "outputs": [],
   "source": [
    "\n",
    "#Event tuning\n",
    "class StartTravel(Event):\n",
    "    \"\"\"Event when a travel is started\n",
    "    Compute and create a FinishEvent\"\"\"\n",
    "    def __init__(self, t,Agent,Destination):\n",
    "        self.time=t\n",
    "        self.agent=Agent\n",
    "        self.destination=Destination\n",
    "    def run(self,simulation):\n",
    "        speed=self.agent.speed\n",
    "        pos=self.agent.position\n",
    "        time=simulation.network.travel_time(pos,self.destination)*speed\n",
    "        simulation.put(FinishTravel(self.time+time,self.agent,self.destination))\n",
    "        self.agent.story.add(self.time,\"moving\",O=pos,D=self.destination,V=speed)\n",
    "\n",
    "class FinishTravel(Event):\n",
    "    \"\"\"Event when a travel is finished\n",
    "    TO BE CHANGED (put another event generator depending on what to do after)\"\"\"\n",
    "    def __init__(self, t,A,D):\n",
    "        self.time=t\n",
    "        self.agent=A\n",
    "        self.destination=D\n",
    "    def run(self,simulation):\n",
    "        self.agent.story.add(self.time,\"finish\",P=self.destination)\n",
    "        \n",
    "\n",
    "\n",
    "\n",
    "\n",
    "#Agent tuning\n",
    "class SimpleDriver(Agent):\n",
    "    attributes=[\"position\",\"departureTime\",\"destination\"]\n",
    "    options={\"speed\":1}\n",
    "    def compute(self,simulation):\n",
    "        simulation.put(StartTravel(self.departureTime,self,self.destination))   \n",
    "    \n",
    "        \n",
    "    \n"
   ]
  },
  {
   "cell_type": "code",
   "execution_count": 8,
   "metadata": {
    "collapsed": true
   },
   "outputs": [],
   "source": [
    "#demand generator\n",
    "def demand_generator(simulation,numberOfDriver):\n",
    "    out=[]\n",
    "    i=0\n",
    "    while(i<numberOfDriver):\n",
    "        i+=1\n",
    "        a=SimpleDriver(position=simulation.network.position_generator(),departureTime=simulation.timer.random_time(),destination=simulation.network.position_generator())\n",
    "        out.append(a)\n",
    "        #a.compute(simulation)\n",
    "    return out\n",
    "\n"
   ]
  },
  {
   "cell_type": "code",
   "execution_count": 12,
   "metadata": {
    "collapsed": false
   },
   "outputs": [],
   "source": [
    "# CREATE A SIMULATION\n",
    "X=(0,200)\n",
    "Y=(0,300)\n",
    "end=3*60\n",
    "N=rectangle(X,Y,3)\n",
    "T=Timer(end)\n",
    "simu=Simulation(N,T)\n",
    "\n",
    "D=demand_generator(simu,60)\n",
    "simu.add(D)\n",
    "simu.set_action(print)"
   ]
  },
  {
   "cell_type": "code",
   "execution_count": 13,
   "metadata": {
    "collapsed": false
   },
   "outputs": [
    {
     "name": "stdout",
     "output_type": "stream",
     "text": [
      "Event at time 0.015852704948589036 of type StartTravel\n",
      "Event at time 1.7529370303948633 of type StartTravel\n",
      "Event at time 3.4382271612624615 of type StartTravel\n",
      "Event at time 5.536456624919772 of type StartTravel\n",
      "Event at time 12.67142172694794 of type StartTravel\n",
      "Event at time 20.610370552919676 of type StartTravel\n",
      "Event at time 22.826670780824834 of type FinishTravel\n",
      "Event at time 33.77679150722425 of type StartTravel\n",
      "Event at time 34.37100627933448 of type StartTravel\n",
      "Event at time 35.96992706170539 of type StartTravel\n",
      "Event at time 39.07680819676551 of type StartTravel\n",
      "Event at time 41.908937044329654 of type StartTravel\n",
      "Event at time 42.568774868979276 of type StartTravel\n",
      "Event at time 43.27179999439613 of type StartTravel\n",
      "Event at time 43.390266260472515 of type StartTravel\n",
      "Event at time 46.155610284614156 of type StartTravel\n",
      "Event at time 46.9833249980191 of type StartTravel\n",
      "Event at time 48.75033920258731 of type FinishTravel\n",
      "Event at time 49.80007888886639 of type StartTravel\n",
      "Event at time 53.466418611041675 of type StartTravel\n",
      "Event at time 53.64055672656512 of type FinishTravel\n",
      "Event at time 55.58171461005295 of type FinishTravel\n",
      "Event at time 55.96491512909892 of type FinishTravel\n",
      "Event at time 56.20104758871395 of type FinishTravel\n",
      "Event at time 57.322457524309215 of type FinishTravel\n",
      "Event at time 58.74610427659223 of type StartTravel\n",
      "Event at time 59.32159682162462 of type StartTravel\n",
      "Event at time 60.67627924878494 of type StartTravel\n",
      "Event at time 61.77234857580139 of type FinishTravel\n",
      "Event at time 63.46326522899889 of type StartTravel\n",
      "Event at time 63.537385663906285 of type StartTravel\n",
      "Event at time 64.09213336383777 of type StartTravel\n",
      "Event at time 64.99903669132097 of type FinishTravel\n",
      "Event at time 67.90947910130869 of type StartTravel\n",
      "Event at time 68.21404136766812 of type FinishTravel\n",
      "Event at time 70.05546165327081 of type FinishTravel\n",
      "Event at time 73.08965004261925 of type StartTravel\n",
      "Event at time 75.0522225192912 of type StartTravel\n",
      "Event at time 77.69697256698939 of type FinishTravel\n",
      "Event at time 78.64560879633035 of type FinishTravel\n",
      "Event at time 78.70282986411189 of type StartTravel\n",
      "Event at time 79.93050490416901 of type StartTravel\n",
      "Event at time 80.22992817547204 of type FinishTravel\n",
      "Event at time 81.02694546120219 of type FinishTravel\n",
      "Event at time 84.37129343281408 of type StartTravel\n",
      "Event at time 88.53552842232222 of type FinishTravel\n",
      "Event at time 90.21073609352983 of type StartTravel\n",
      "Event at time 90.8558197958609 of type StartTravel\n",
      "Event at time 99.18414864817069 of type FinishTravel\n",
      "Event at time 101.69776207827839 of type FinishTravel\n",
      "Event at time 102.11856486271728 of type StartTravel\n",
      "Event at time 102.58438800439058 of type FinishTravel\n",
      "Event at time 103.23351839251033 of type StartTravel\n",
      "Event at time 104.13283620144398 of type StartTravel\n",
      "Event at time 105.4947983469637 of type StartTravel\n",
      "Event at time 106.21949767323943 of type StartTravel\n",
      "Event at time 106.58888847825509 of type FinishTravel\n",
      "Event at time 106.77572378791717 of type FinishTravel\n",
      "Event at time 110.79369073365712 of type StartTravel\n",
      "Event at time 113.63626289581492 of type StartTravel\n",
      "Event at time 113.8766399047436 of type FinishTravel\n",
      "Event at time 115.00248574247371 of type FinishTravel\n",
      "Event at time 115.95443866155617 of type FinishTravel\n",
      "Event at time 117.58140664289226 of type FinishTravel\n",
      "Event at time 117.9264373692008 of type StartTravel\n",
      "Event at time 118.32315945764299 of type FinishTravel\n",
      "Event at time 120.60801376328872 of type StartTravel\n",
      "Event at time 120.85567822164467 of type FinishTravel\n",
      "Event at time 122.5575569882918 of type FinishTravel\n",
      "Event at time 124.91809585998779 of type StartTravel\n",
      "Event at time 125.23712981142275 of type FinishTravel\n",
      "Event at time 125.8622513487739 of type FinishTravel\n",
      "Event at time 126.63657091888 of type FinishTravel\n",
      "Event at time 127.01837604962083 of type StartTravel\n",
      "Event at time 130.73145945654227 of type FinishTravel\n",
      "Event at time 131.52995275457513 of type StartTravel\n",
      "Event at time 133.66436589566536 of type StartTravel\n",
      "Event at time 134.55755858160168 of type StartTravel\n",
      "Event at time 135.0874546463483 of type FinishTravel\n",
      "Event at time 135.74831339972008 of type StartTravel\n",
      "Event at time 136.28253818580234 of type StartTravel\n",
      "Event at time 137.14253675652878 of type StartTravel\n",
      "Event at time 137.2279889873967 of type FinishTravel\n",
      "Event at time 141.94445503824522 of type FinishTravel\n",
      "Event at time 144.6948738071046 of type StartTravel\n",
      "Event at time 146.04847101056558 of type FinishTravel\n",
      "Event at time 150.44924778594722 of type FinishTravel\n",
      "Event at time 150.80173706416548 of type FinishTravel\n",
      "Event at time 151.06089890409575 of type FinishTravel\n",
      "Event at time 152.22967574145628 of type StartTravel\n",
      "Event at time 153.26338658090637 of type FinishTravel\n",
      "Event at time 153.54800913817311 of type StartTravel\n",
      "Event at time 155.83216719800532 of type StartTravel\n",
      "Event at time 156.42718014066668 of type StartTravel\n",
      "Event at time 156.8681888032521 of type FinishTravel\n",
      "Event at time 162.74523270971616 of type StartTravel\n",
      "Event at time 164.26984085148018 of type StartTravel\n",
      "Event at time 165.09263930295558 of type FinishTravel\n",
      "Event at time 165.68374945153246 of type StartTravel\n",
      "Event at time 168.3881043011806 of type StartTravel\n",
      "Event at time 169.35026813404977 of type FinishTravel\n",
      "Event at time 169.8785266309833 of type StartTravel\n",
      "Event at time 170.76190173584425 of type StartTravel\n",
      "Event at time 172.7642958431449 of type FinishTravel\n",
      "Event at time 175.69954045239302 of type FinishTravel\n",
      "Event at time 181.2195515167801 of type FinishTravel\n",
      "Event at time 182.81810762088264 of type FinishTravel\n",
      "Event at time 189.03136012179442 of type FinishTravel\n",
      "Event at time 189.38419422835864 of type FinishTravel\n",
      "Event at time 191.63846540907346 of type FinishTravel\n",
      "Event at time 196.92293657286925 of type FinishTravel\n",
      "Event at time 198.5325818720403 of type FinishTravel\n",
      "Event at time 201.40341612966296 of type FinishTravel\n",
      "Event at time 203.43412772698423 of type FinishTravel\n",
      "Event at time 211.61688856702577 of type FinishTravel\n",
      "Event at time 212.79473896320383 of type FinishTravel\n",
      "Event at time 214.1367375548689 of type FinishTravel\n",
      "Event at time 216.56669111966843 of type FinishTravel\n",
      "Event at time 230.06173700942986 of type FinishTravel\n",
      "Event at time 241.0934690759235 of type FinishTravel\n"
     ]
    }
   ],
   "source": [
    "simu()"
   ]
  },
  {
   "cell_type": "code",
   "execution_count": 11,
   "metadata": {
    "collapsed": false
   },
   "outputs": [
    {
     "ename": "NameError",
     "evalue": "name 'Drawing' is not defined",
     "output_type": "error",
     "traceback": [
      "\u001b[1;31m---------------------------------------------------------------------------\u001b[0m",
      "\u001b[1;31mNameError\u001b[0m                                 Traceback (most recent call last)",
      "\u001b[1;32m<ipython-input-11-00f44564a507>\u001b[0m in \u001b[0;36m<module>\u001b[1;34m()\u001b[0m\n\u001b[1;32m----> 1\u001b[1;33m \u001b[0mdr\u001b[0m\u001b[1;33m=\u001b[0m\u001b[0mDrawing\u001b[0m\u001b[1;33m(\u001b[0m\u001b[0mX\u001b[0m\u001b[1;33m,\u001b[0m\u001b[0mY\u001b[0m\u001b[1;33m,\u001b[0m\u001b[0msimu\u001b[0m\u001b[1;33m.\u001b[0m\u001b[0mnetwork\u001b[0m\u001b[1;33m.\u001b[0m\u001b[0mget_patch\u001b[0m\u001b[1;33m(\u001b[0m\u001b[1;33m)\u001b[0m\u001b[1;33m,\u001b[0m\u001b[0msimu\u001b[0m\u001b[1;33m.\u001b[0m\u001b[0mtimer\u001b[0m\u001b[1;33m.\u001b[0m\u001b[0mfinish_time\u001b[0m\u001b[1;33m,\u001b[0m\u001b[0mposition_list\u001b[0m\u001b[1;33m(\u001b[0m\u001b[0msimu\u001b[0m\u001b[1;33m.\u001b[0m\u001b[0magents\u001b[0m\u001b[1;33m,\u001b[0m\u001b[0msimu\u001b[0m\u001b[1;33m.\u001b[0m\u001b[0mnetwork\u001b[0m\u001b[1;33m)\u001b[0m\u001b[1;33m)\u001b[0m\u001b[1;33m\u001b[0m\u001b[0m\n\u001b[0m\u001b[0;32m      2\u001b[0m \u001b[0mdr\u001b[0m\u001b[1;33m.\u001b[0m\u001b[0mset_options\u001b[0m\u001b[1;33m(\u001b[0m\u001b[0mmargin\u001b[0m\u001b[1;33m=\u001b[0m\u001b[1;36m20\u001b[0m\u001b[1;33m,\u001b[0m\u001b[0mreal_size\u001b[0m\u001b[1;33m=\u001b[0m\u001b[1;33m(\u001b[0m\u001b[1;36m8\u001b[0m\u001b[1;33m,\u001b[0m\u001b[1;36m8\u001b[0m\u001b[1;33m)\u001b[0m\u001b[1;33m,\u001b[0m\u001b[0mtime_interval\u001b[0m\u001b[1;33m=\u001b[0m\u001b[1;36m10\u001b[0m\u001b[1;33m,\u001b[0m\u001b[0mtime_coef\u001b[0m\u001b[1;33m=\u001b[0m\u001b[1;36m15\u001b[0m\u001b[1;33m,\u001b[0m\u001b[0mrepetition\u001b[0m\u001b[1;33m=\u001b[0m\u001b[1;32mTrue\u001b[0m\u001b[1;33m)\u001b[0m\u001b[1;33m\u001b[0m\u001b[0m\n",
      "\u001b[1;31mNameError\u001b[0m: name 'Drawing' is not defined"
     ]
    }
   ],
   "source": [
    "dr=Drawing(X,Y,simu.network.get_patch(),simu.timer.finish_time,position_list(simu.agents,simu.network))\n",
    "dr.set_options(margin=20,real_size=(8,8),time_interval=10,time_coef=15,repetition=True)"
   ]
  },
  {
   "cell_type": "code",
   "execution_count": null,
   "metadata": {
    "collapsed": true
   },
   "outputs": [],
   "source": []
  }
 ],
 "metadata": {
  "kernelspec": {
   "display_name": "Python 3",
   "language": "python",
   "name": "python3"
  },
  "language_info": {
   "codemirror_mode": {
    "name": "ipython",
    "version": 3
   },
   "file_extension": ".py",
   "mimetype": "text/x-python",
   "name": "python",
   "nbconvert_exporter": "python",
   "pygments_lexer": "ipython3",
   "version": "3.5.1"
  }
 },
 "nbformat": 4,
 "nbformat_minor": 0
}
