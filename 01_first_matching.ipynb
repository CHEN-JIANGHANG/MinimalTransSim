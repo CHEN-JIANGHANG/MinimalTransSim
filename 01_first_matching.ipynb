{
 "cells": [
  {
   "cell_type": "code",
   "execution_count": null,
   "metadata": {
    "collapsed": false
   },
   "outputs": [],
   "source": [
    "\"\"\"Use of shanghai_platform\n",
    "one simulation, several draws\"\"\"\n",
    "\n",
    "\n",
    "#see numpy and random"
   ]
  },
  {
   "cell_type": "code",
   "execution_count": null,
   "metadata": {
    "collapsed": false
   },
   "outputs": [],
   "source": [
    "# 0.1 Modules\n",
    "\n",
    "from CircleNet.system import Simulation\n",
    "from CircleNet.shape import circle,Timer\n",
    "from CircleNet.animation import format_time,Displayer\n",
    "from CircleNet.shanghai_platform import MatchingPlatform, Driver, Passenger\n",
    "from CircleNet.shanghai_platform_extension import Positions_drawing, plot_routes, plot_relative_routes,extract_result_data\n",
    "import numpy as np"
   ]
  },
  {
   "cell_type": "code",
   "execution_count": null,
   "metadata": {
    "collapsed": false
   },
   "outputs": [],
   "source": [
    "# 0.2 Help\n",
    "\n",
    "#help(MatchingPlatform)\n",
    "#print(Driver.attributes), print(Passenger.attributes)"
   ]
  },
  {
   "cell_type": "code",
   "execution_count": null,
   "metadata": {
    "collapsed": false
   },
   "outputs": [],
   "source": [
    "# 1.1 Parameters\n",
    "\n",
    "speed= 25 #km/h\n",
    "R= 25 #km\n",
    "end= 3 #h\n",
    "\n",
    "N_driver= 600\n",
    "N_passenger= 600\n",
    "\n",
    "\n",
    "#in second :\n",
    "#Drivers:\n",
    "first_watching_before_first_departure= 5 * 60\n",
    "window_size_of_departure= 15 * 60\n",
    "time_elasticity= 5 * 60\n",
    "fuel_cost= 0.5\n",
    "watching_repetition_average= 60 # -> random\n",
    "watching_repetition_variance= 10\n",
    "time_perception_average= 1 / 300 # = 24 * 50/100 / 3600 #50% of average income, in second   -> random\n",
    "time_perception_variance= 1 / 3000 #10% percent\n",
    "\n",
    "#Passenger\n",
    "publishing_advance= 20 * 60"
   ]
  },
  {
   "cell_type": "code",
   "execution_count": null,
   "metadata": {
    "collapsed": false
   },
   "outputs": [],
   "source": [
    "# 1.2 Simulation type\n",
    "\n",
    "#transformation in m, s\n",
    "speed/=3.6\n",
    "R*=1000\n",
    "end*=3600\n",
    "\n",
    "\n",
    "def benefits(origin,destination,network):\n",
    "    \"\"\"Shanghai pricing\"\"\"\n",
    "    distance=network.travel_distance(origin,destination)\n",
    "    if distance < 3000: #3n first km fixprice\n",
    "        return 11#in RMB\n",
    "    if distance < 20000:#until 20km at 1.5RMB / km\n",
    "        return 6.5 + distance * 1.5 # 11 + (distance - 3) * 1.5\n",
    "    return 8.5 + distance # 28.5 + (distance - 20) *1   # 28.5 = 3 + (20 - 3) * 1.5\n",
    "\n",
    "def get_log_normal(average,variance):\n",
    "    sigma=np.log(1+(variance/average)**2)\n",
    "    mu=np.log(average)-sigma**2/2\n",
    "    sigma=np.sqrt(sigma)\n",
    "    def out():\n",
    "        return np.random.lognormal(mu, sigma)\n",
    "    return out\n",
    "watching_repetition=get_log_normal(watching_repetition_average,watching_repetition_variance)\n",
    "time_perception=get_log_normal(time_perception_average,time_perception_variance)\n",
    "\n",
    "\n",
    "#agents generator\n",
    "def SimpleDriver(simulation):\n",
    "    t=simulation.timer.random_time()\n",
    "    O=simulation.network.position_generator()\n",
    "    D=simulation.network.position_generator()\n",
    "    w=(t+first_watching_before_first_departure,t+first_watching_before_first_departure+window_size_of_departure)\n",
    "    A=w[1]+simulation.network.travel_time(O,D)+time_elasticity\n",
    "    return Driver(first_watching_time=t,\n",
    "                  repetition_time=watching_repetition(),\n",
    "                  departure_window=w,\n",
    "                  position=O,destination=D,\n",
    "                  last_arrival_time=A,\n",
    "                  fuel_cost=fuel_cost,\n",
    "                  time_perception=time_perception())\n",
    "def SimplePassenger(simulation):\n",
    "    t=simulation.timer.random_time()\n",
    "    O=simulation.network.position_generator()\n",
    "    D=simulation.network.position_generator()\n",
    "    return Passenger(publishing_time=t,\n",
    "                     last_departure_time=t+publishing_advance,\n",
    "                     position=O,destination=D)\n"
   ]
  },
  {
   "cell_type": "code",
   "execution_count": null,
   "metadata": {
    "collapsed": false
   },
   "outputs": [],
   "source": [
    "#1.3 Simulation construction\n",
    "\n",
    "N=circle(R,speed)\n",
    "T=Timer(end)\n",
    "simu=Simulation(N,T)\n",
    "d=None\n",
    "\n",
    "simu.matchingAlgo=MatchingPlatform(benefits,simu)\n",
    "\n",
    "\n",
    "for i in range(N_driver):\n",
    "    simu.add(SimpleDriver(simu))\n",
    "for i in range(N_passenger):\n",
    "    simu.add(SimplePassenger(simu))\n",
    "    \n",
    "\n"
   ]
  },
  {
   "cell_type": "code",
   "execution_count": null,
   "metadata": {
    "collapsed": false
   },
   "outputs": [],
   "source": [
    "#2.1 Time control\n",
    "# OPTIONAL\n",
    "\n",
    "def f(u):\n",
    "    return format_time(float(u))\n",
    "d=Displayer(text='0',function_when_display=f)\n",
    "d.start()"
   ]
  },
  {
   "cell_type": "code",
   "execution_count": null,
   "metadata": {
    "collapsed": false
   },
   "outputs": [],
   "source": [
    "#2.2 Execution\n",
    "\n",
    "\n",
    "\n",
    "#simu.set_action(print,)\n",
    "if d:\n",
    "    simu.set_action(lambda x: d.change(x.time))\n",
    "\n",
    "    \n",
    "\n",
    "simu()\n",
    "print(simu.execution_time)"
   ]
  },
  {
   "cell_type": "code",
   "execution_count": null,
   "metadata": {
    "collapsed": false
   },
   "outputs": [],
   "source": [
    "#2.3 Close time controler\n",
    "\n",
    "if d:\n",
    "    d.quit()"
   ]
  },
  {
   "cell_type": "code",
   "execution_count": null,
   "metadata": {
    "collapsed": false
   },
   "outputs": [],
   "source": [
    "#3.1 Observations\n",
    "\n",
    "results=extract_result_data(simu)\n",
    "print(results)\n",
    "\n",
    "#histogram for relative standard deviation\n",
    "\n",
    "#drivers characteristic on his behavior\n",
    "#same for passenger\n",
    "#relation between general scenario and matching efficiency"
   ]
  },
  {
   "cell_type": "code",
   "execution_count": null,
   "metadata": {
    "collapsed": false
   },
   "outputs": [],
   "source": [
    "# 3.2 Animation\n",
    "\n",
    "dr=Positions_drawing(simu)\n",
    "dr.set_options(margin=20,real_size=(10,10),time_interval=30,time_coef=1000,repetition=True,hide_axes=True)\n",
    "#%matplotlib notebook\n",
    "dr()"
   ]
  },
  {
   "cell_type": "code",
   "execution_count": null,
   "metadata": {
    "collapsed": false
   },
   "outputs": [],
   "source": [
    "# 3.3 Route representation\n",
    "\n",
    "# a. All trajectories\n",
    "plot_routes(simu)\n",
    "\n"
   ]
  },
  {
   "cell_type": "code",
   "execution_count": null,
   "metadata": {
    "collapsed": true
   },
   "outputs": [],
   "source": [
    "# b. Relative route\n",
    "plot_relative_routes(simu)"
   ]
  },
  {
   "cell_type": "code",
   "execution_count": null,
   "metadata": {
    "collapsed": true
   },
   "outputs": [],
   "source": []
  }
 ],
 "metadata": {
  "kernelspec": {
   "display_name": "Python 3",
   "language": "python",
   "name": "python3"
  },
  "language_info": {
   "codemirror_mode": {
    "name": "ipython",
    "version": 3
   },
   "file_extension": ".py",
   "mimetype": "text/x-python",
   "name": "python",
   "nbconvert_exporter": "python",
   "pygments_lexer": "ipython3",
   "version": "3.5.1"
  }
 },
 "nbformat": 4,
 "nbformat_minor": 0
}
