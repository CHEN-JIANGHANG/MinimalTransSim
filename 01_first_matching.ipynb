{
 "cells": [
  {
   "cell_type": "code",
   "execution_count": 1,
   "metadata": {
    "collapsed": false
   },
   "outputs": [
    {
     "data": {
      "text/plain": [
       "'Use of shanghai_platform\\none simulation, several draws'"
      ]
     },
     "execution_count": 1,
     "metadata": {},
     "output_type": "execute_result"
    }
   ],
   "source": [
    "\"\"\"Use of shanghai_platform\n",
    "one simulation, several draws\"\"\"\n",
    "\n",
    "\n",
    "\n",
    "\n",
    "#TODO\n",
    "\n",
    "#put in the module\n",
    "#create new file for automation"
   ]
  },
  {
   "cell_type": "code",
   "execution_count": 2,
   "metadata": {
    "collapsed": false
   },
   "outputs": [],
   "source": [
    "# 0.1 Modules\n",
    "\n",
    "from CircleNet.shape import circle,Timer\n",
    "from CircleNet.shanghai_platform import Simulation, MatchingPlatform, Driver, Passenger\n",
    "from  CircleNet.shanghai_platform_extension import Positions_drawing, plot_routes, plot_relative_routes"
   ]
  },
  {
   "cell_type": "code",
   "execution_count": 3,
   "metadata": {
    "collapsed": false
   },
   "outputs": [],
   "source": [
    "# 0.2 Help\n",
    "\n",
    "#help(MatchingPlatform)\n",
    "#print(Driver.attributes), print(Passenger.attributes)"
   ]
  },
  {
   "cell_type": "code",
   "execution_count": 4,
   "metadata": {
    "collapsed": false
   },
   "outputs": [],
   "source": [
    "# 1.1 Parameters\n",
    "\n",
    "speed=25 #km/h\n",
    "R=25 #km\n",
    "end=3 #h\n",
    "\n",
    "N_driver=600\n",
    "N_passenger=600\n",
    "\n",
    "\n",
    "#in second :\n",
    "#Drivers:\n",
    "watching_repetition_time=60\n",
    "first_watching_before_first_departure=5*60\n",
    "window_size_of_departure=15*60\n",
    "time_elasticity=5*60\n",
    "fuel_cost=0.5\n",
    "time_perception=5\n",
    "\n",
    "#Passenger\n",
    "publishing_advance=20*60"
   ]
  },
  {
   "cell_type": "code",
   "execution_count": 5,
   "metadata": {
    "collapsed": true
   },
   "outputs": [],
   "source": [
    "# 1.2 Simulation type\n",
    "\n",
    "#transformation in m, s\n",
    "speed/=3.6\n",
    "R*=1000\n",
    "end*=3600\n",
    "\n",
    "def incentive(b):\n",
    "    def o(*a,**k):\n",
    "        return b(*a,**k)+500\n",
    "    return o\n",
    "\n",
    "#benefit for a drive\n",
    "@incentive\n",
    "def benefits(origin,destination,network):\n",
    "    \"\"\"Shanghai pricing\"\"\"\n",
    "    distance=network.travel_distance(origin,destination)\n",
    "    if distance < 3000: #3n first km fixprice\n",
    "        return 11#in RMB\n",
    "    if distance < 20000:#until 20km at 1.5RMB / km\n",
    "        return 6.5 + distance * 1.5 # 11 + (distance - 3) * 1.5\n",
    "    return 8.5 + distance # 28.5 + (distance - 20) *1   # 28.5 = 3 + (20 - 3) * 1.5\n",
    "\n",
    "\n",
    "\n",
    "#agents generator\n",
    "def SimpleDriver(simulation):\n",
    "    t=simulation.timer.random_time()\n",
    "    O=simulation.network.position_generator()\n",
    "    D=simulation.network.position_generator()\n",
    "    w=(t+first_watching_before_first_departure,t+first_watching_before_first_departure+window_size_of_departure)\n",
    "    A=w[1]+simulation.network.travel_time(O,D)+time_elasticity\n",
    "    return Driver(first_watching_time=t,\n",
    "                  repetition_time=watching_repetition_time,\n",
    "                  departure_window=w,\n",
    "                  position=O,destination=D,\n",
    "                  last_arrival_time=A,\n",
    "                  fuel_cost=fuel_cost,\n",
    "                  time_perception=time_perception)\n",
    "def SimplePassenger(simulation):\n",
    "    t=simulation.timer.random_time()\n",
    "    O=simulation.network.position_generator()\n",
    "    D=simulation.network.position_generator()\n",
    "    return Passenger(publishing_time=t,\n",
    "                     last_departure_time=t+publishing_advance,\n",
    "                     position=O,destination=D)\n"
   ]
  },
  {
   "cell_type": "code",
   "execution_count": 6,
   "metadata": {
    "collapsed": false
   },
   "outputs": [],
   "source": [
    "#1.3 Simulation construction\n",
    "\n",
    "N=circle(R,speed)\n",
    "T=Timer(end)\n",
    "simu=Simulation(N,T)\n",
    "\n",
    "\n",
    "simu.matchingAlgo=MatchingPlatform(benefits,simu)\n",
    "\n",
    "\n",
    "for i in range(N_driver):\n",
    "    simu.add(SimpleDriver(simu))\n",
    "for i in range(N_passenger):\n",
    "    simu.add(SimplePassenger(simu))\n",
    "    \n",
    "\n"
   ]
  },
  {
   "cell_type": "code",
   "execution_count": 7,
   "metadata": {
    "collapsed": false
   },
   "outputs": [],
   "source": [
    "#2. Execution\n",
    "\n",
    "#simu.set_action(print,)\n",
    "simu()"
   ]
  },
  {
   "cell_type": "code",
   "execution_count": 52,
   "metadata": {
    "collapsed": false
   },
   "outputs": [
    {
     "name": "stdout",
     "output_type": "stream",
     "text": [
      "422 / 600\n",
      "422 / 600\n",
      "{'passenger_efficiency': 0.2966666666666667, 'average_waiting_time': 90.63929389411021, 'driver_efficiency': 0.2966666666666667, 'nb_passenger': 600, 'nb_driver': 600, 'total_vks': 2435462.9759513247, 'average_vks': 13682.376269389464, 'nb_match': 178}\n"
     ]
    }
   ],
   "source": [
    "#3.1 Observations\n",
    "\n",
    "from CircleNet.shanghai_platform_extension import driver_matched_route_extraction\n",
    "\n",
    "#percentage of efficiency\n",
    "nb_driver_alone=0\n",
    "for p in simu:\n",
    "    if isinstance(p,Driver):\n",
    "        for t,action in p.story:\n",
    "            if action[0] is \"alone\":\n",
    "                nb_driver_alone+=1\n",
    "                break\n",
    "print(nb_driver_alone,\"/\",N_driver)\n",
    "\n",
    "nb_passenger_missed=0\n",
    "for p in simu:\n",
    "    if isinstance(p,Passenger):\n",
    "        for action in p.story.actions:\n",
    "            if action[0] is \"missed\":\n",
    "                nb_passenger_missed+=1\n",
    "                break\n",
    "print(nb_passenger_missed,\"/\",N_passenger)\n",
    "\n",
    "#efficiency\n",
    "def nb_match(simu):\n",
    "    out=0\n",
    "    for p in simu:\n",
    "        if isinstance(p,Driver):\n",
    "            for _,action in p.story:\n",
    "                if action[0] is \"matched\":\n",
    "                    out+=1\n",
    "                    break \n",
    "    return out\n",
    "\n",
    "#vks\n",
    "def vks(trajectory,network):\n",
    "    out=network.travel_distance(trajectory[0],trajectory[3])\n",
    "    out-=network.travel_distance(trajectory[0],trajectory[1]) + network.travel_distance(trajectory[2],trajectory[3])\n",
    "    return out\n",
    "def vks_average_total(simu):\n",
    "    l=driver_matched_route_extraction(simu)\n",
    "    l=[vks(t,simu.network) for t in l]\n",
    "    return sum(l)/len(l),sum(l)\n",
    "\n",
    "#wait\n",
    "def waiting_times(simu):\n",
    "    matched =[]\n",
    "    for p in simu:\n",
    "        if isinstance(p,Passenger):\n",
    "            for t,action in p.story:\n",
    "                if action[0] is \"matched\":\n",
    "                    for t2,action2 in p.story:\n",
    "                        if action2[0] is \"waiting\":\n",
    "                            matched.append(t-t2)\n",
    "                            break\n",
    "                    break\n",
    "    return sum(matched)/len(matched)\n",
    "\n",
    "#summary\n",
    "def extract_result_data(simu,data):#data already gather parameters\n",
    "    \"\"\"has results extracted from the simulation to the dictionary of parameters\n",
    "    need nb_driver, nb_passenger\"\"\"\n",
    "    assert \"nb_driver\" in data\n",
    "    assert \"nb_passenger\" in data\n",
    "    data[\"average_waiting_time\"]=waiting_times(simu)\n",
    "    data[\"average_vks\"],results[\"total_vks\"]=vks_average_total(simu)\n",
    "    data[\"nb_match\"]=nb_match(simu)\n",
    "    data[\"driver_efficiency\"]=data[\"nb_match\"]/data[\"nb_driver\"]\n",
    "    data[\"passenger_efficiency\"]=data[\"nb_match\"]/data[\"nb_passenger\"]\n",
    "    return data\n",
    "    \n",
    "\n",
    "results={}\n",
    "results[\"nb_driver\"]=N_driver\n",
    "results[\"nb_passenger\"]=N_passenger\n",
    "results=extract_result_data(simu,results)\n",
    "print(results)"
   ]
  },
  {
   "cell_type": "code",
   "execution_count": 9,
   "metadata": {
    "collapsed": false
   },
   "outputs": [
    {
     "data": {
      "text/plain": [
       "<matplotlib.animation.FuncAnimation at 0x7e827f0>"
      ]
     },
     "execution_count": 9,
     "metadata": {},
     "output_type": "execute_result"
    }
   ],
   "source": [
    "# 3.2 Animation\n",
    "\n",
    "dr=Positions_drawing(simu)\n",
    "dr.set_options(margin=20,real_size=(10,10),time_interval=30,time_coef=1000,repetition=True,hide_axes=True)\n",
    "#%matplotlib notebook\n",
    "dr()"
   ]
  },
  {
   "cell_type": "code",
   "execution_count": 10,
   "metadata": {
    "collapsed": false
   },
   "outputs": [],
   "source": [
    "# 3.3 Route representation\n",
    "\n",
    "\n",
    "#simple route plot\n",
    "\n",
    "plot_routes(simu)\n",
    "\n",
    "\n",
    "\n"
   ]
  },
  {
   "cell_type": "code",
   "execution_count": 11,
   "metadata": {
    "collapsed": false
   },
   "outputs": [],
   "source": [
    "\n",
    "#aggregated\n",
    "\n",
    "plot_relative_routes(simu)\n",
    "\n",
    "\n",
    "\n"
   ]
  },
  {
   "cell_type": "code",
   "execution_count": null,
   "metadata": {
    "collapsed": true
   },
   "outputs": [],
   "source": []
  }
 ],
 "metadata": {
  "kernelspec": {
   "display_name": "Python 3",
   "language": "python",
   "name": "python3"
  },
  "language_info": {
   "codemirror_mode": {
    "name": "ipython",
    "version": 3
   },
   "file_extension": ".py",
   "mimetype": "text/x-python",
   "name": "python",
   "nbconvert_exporter": "python",
   "pygments_lexer": "ipython3",
   "version": "3.5.1"
  }
 },
 "nbformat": 4,
 "nbformat_minor": 0
}
