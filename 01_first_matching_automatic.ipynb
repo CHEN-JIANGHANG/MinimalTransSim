{
 "cells": [
  {
   "cell_type": "code",
   "execution_count": 1,
   "metadata": {
    "collapsed": true
   },
   "outputs": [],
   "source": [
    "from CircleNet.system import Simulation\n",
    "from CircleNet.shape import circle,Timer\n",
    "from CircleNet.shanghai_platform import MatchingPlatform, Driver, Passenger\n",
    "from CircleNet.shanghai_platform_extension import extract_result_data\n",
    "import numpy as np\n",
    "import time\n",
    "\n",
    "\n",
    "#put a dictionnary of parameters\n",
    "#see where is the loss of time\n",
    "#built a memory of who is first"
   ]
  },
  {
   "cell_type": "code",
   "execution_count": 2,
   "metadata": {
    "collapsed": true
   },
   "outputs": [],
   "source": [
    "#automatic functions\n",
    "\n",
    "def get_id():\n",
    "    return \"{0}{7:03}{3:02}{4:02}{5:02}\".format(*time.localtime())\n",
    "\n",
    "class Write_csv():\n",
    "    def __init__(self,name,keys_to_save):\n",
    "        self.file_name=name\n",
    "        self.the_string=\"{\"+\"},{\".join(keys_to_save)+\"}\\n\"\n",
    "        with open(self.file_name , \"w\") as file :\n",
    "            file.write(\",\".join(keys_to_save)+\"\\n\")#write the first line\n",
    "            assert len(keys_to_save)>0, \"nothing to save\"\n",
    "    def write(self,**values):\n",
    "        with open(self.file_name , \"a\") as file :\n",
    "            file.write(self.the_string.format(**values))\n",
    " "
   ]
  },
  {
   "cell_type": "code",
   "execution_count": 3,
   "metadata": {
    "collapsed": true
   },
   "outputs": [],
   "source": [
    "#simulation parameters\n",
    "\n",
    "#MOVING\n",
    "N_driver_list= [2000,3000,4000]#,5000,6000,7000,8000,9000,10000]\n",
    "N_passenger_list= [2000,3000,4000]#,5000,6000,7000,8000,9000,10000]\n",
    "\n",
    "\n",
    "\n",
    "\n",
    "\n",
    "#FIXED\n",
    "speed= 25 #km/h\n",
    "R= 25 #km\n",
    "end= 3 #h\n",
    "#transformation in m, s\n",
    "speed/=3.6\n",
    "R*=1000\n",
    "end*=3600\n",
    "\n",
    "\n",
    "#in second :\n",
    "#Drivers:\n",
    "first_watching_before_first_departure= 5 * 60\n",
    "window_size_of_departure= 15 * 60\n",
    "time_elasticity= 5 * 60\n",
    "fuel_cost= 0.5\n",
    "watching_repetition_average= 60 # -> random\n",
    "watching_repetition_variance= 10\n",
    "time_perception_average= 1 / 300 # = 24 * 50/100 / 3600 #50% of average income, in second   -> random\n",
    "time_perception_variance= 1 / 3000 #10% percent\n",
    "\n",
    "#Passenger\n",
    "publishing_advance= 20 * 60\n",
    "\n",
    "#TYPE OF SIMULATION\n",
    "def benefits(origin,destination,network):\n",
    "    \"\"\"Shanghai pricing\"\"\"\n",
    "    distance=network.travel_distance(origin,destination)\n",
    "    if distance < 3000: #3n first km fixprice\n",
    "        return 11#in RMB\n",
    "    if distance < 20000:#until 20km at 1.5RMB / km\n",
    "        return 6.5 + distance * 1.5 # 11 + (distance - 3) * 1.5\n",
    "    return 8.5 + distance # 28.5 + (distance - 20) *1   # 28.5 = 3 + (20 - 3) * 1.5\n",
    "\n",
    "def get_log_normal(average,variance):\n",
    "    sigma=np.log(1+(variance/average)**2)\n",
    "    mu=np.log(average)-sigma**2/2\n",
    "    sigma=np.sqrt(sigma)\n",
    "    def out():\n",
    "        return np.random.lognormal(mu, sigma)\n",
    "    return out\n",
    "watching_repetition=get_log_normal(watching_repetition_average,watching_repetition_variance)\n",
    "time_perception=get_log_normal(time_perception_average,time_perception_variance)\n",
    "\n",
    "\n",
    "#agents generator\n",
    "def SimpleDriver(simulation):\n",
    "    t=simulation.timer.random_time()\n",
    "    O=simulation.network.position_generator()\n",
    "    D=simulation.network.position_generator()\n",
    "    w=(t+first_watching_before_first_departure,t+first_watching_before_first_departure+window_size_of_departure)\n",
    "    A=w[1]+simulation.network.travel_time(O,D)+time_elasticity\n",
    "    return Driver(first_watching_time=t,\n",
    "                  repetition_time=watching_repetition(),\n",
    "                  departure_window=w,\n",
    "                  position=O,destination=D,\n",
    "                  last_arrival_time=A,\n",
    "                  fuel_cost=fuel_cost,\n",
    "                  time_perception=time_perception())\n",
    "def SimplePassenger(simulation):\n",
    "    t=simulation.timer.random_time()\n",
    "    O=simulation.network.position_generator()\n",
    "    D=simulation.network.position_generator()\n",
    "    return Passenger(publishing_time=t,\n",
    "                     last_departure_time=t+publishing_advance,\n",
    "                     position=O,destination=D)"
   ]
  },
  {
   "cell_type": "code",
   "execution_count": 4,
   "metadata": {
    "collapsed": false
   },
   "outputs": [
    {
     "name": "stdout",
     "output_type": "stream",
     "text": [
      "begin of simulation with  2000  drivers and  2000  passengers\n",
      "begin of simulation with  2000  drivers and  3000  passengers\n",
      "begin of simulation with  2000  drivers and  4000  passengers\n",
      "begin of simulation with  3000  drivers and  2000  passengers\n",
      "begin of simulation with  3000  drivers and  3000  passengers\n",
      "begin of simulation with  3000  drivers and  4000  passengers\n",
      "begin of simulation with  4000  drivers and  2000  passengers\n",
      "begin of simulation with  4000  drivers and  3000  passengers\n",
      "begin of simulation with  4000  drivers and  4000  passengers\n"
     ]
    }
   ],
   "source": [
    "#execution\n",
    "\n",
    "to_save=['id_sim', 'nb_passenger','nb_driver','execution_time', 'nb_match','driver_efficiency', 'passenger_efficiency',  \n",
    "         'average_waiting_time','average_vks', 'total_vks']\n",
    "result_file=Write_csv(\"data/first_sims_after_opt.csv\",to_save)\n",
    "\n",
    "for N_driver in N_driver_list:\n",
    "    for N_passenger in N_passenger_list :\n",
    "        print(\"begin of simulation with \",N_driver,\" drivers and \",N_passenger,\" passengers\")\n",
    "        #construction\n",
    "        N=circle(R,speed)\n",
    "        T=Timer(end)\n",
    "        simu=Simulation(N,T)\n",
    "        simu.matchingAlgo=MatchingPlatform(benefits,simu)\n",
    "        for i in range(N_driver):\n",
    "            simu.add(SimpleDriver(simu))\n",
    "        for i in range(N_passenger):\n",
    "            simu.add(SimplePassenger(simu))\n",
    "        id_sim=get_id()\n",
    "        #execution\n",
    "        simu()\n",
    "        results=extract_result_data(simu)\n",
    "        #saving\n",
    "        result_file.write(**results,id_sim=id_sim)\n",
    "    \n"
   ]
  },
  {
   "cell_type": "code",
   "execution_count": null,
   "metadata": {
    "collapsed": true
   },
   "outputs": [],
   "source": []
  }
 ],
 "metadata": {
  "kernelspec": {
   "display_name": "Python 3",
   "language": "python",
   "name": "python3"
  },
  "language_info": {
   "codemirror_mode": {
    "name": "ipython",
    "version": 3
   },
   "file_extension": ".py",
   "mimetype": "text/x-python",
   "name": "python",
   "nbconvert_exporter": "python",
   "pygments_lexer": "ipython3",
   "version": "3.5.1"
  }
 },
 "nbformat": 4,
 "nbformat_minor": 0
}
