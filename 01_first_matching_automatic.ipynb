{
 "cells": [
  {
   "cell_type": "code",
   "execution_count": null,
   "metadata": {
    "collapsed": true
   },
   "outputs": [],
   "source": [
    "from CircleNet.system import Simulation\n",
    "from CircleNet.shape import circle,Timer,get_log_normal\n",
    "from CircleNet.shanghai_platform import MatchingPlatform, Driver, Passenger\n",
    "from CircleNet.shanghai_platform_extension import extract_result_data,vks_detour\n",
    "import numpy as np\n",
    "import time\n",
    "\n",
    "\n",
    "#TODO\n",
    "#put writting functions somewhere else\n",
    "#put extraction functions somewhere else\n",
    "#reorganise parameters etc in other file\n",
    "#controlleur de temps"
   ]
  },
  {
   "cell_type": "code",
   "execution_count": null,
   "metadata": {
    "collapsed": true
   },
   "outputs": [],
   "source": [
    "#automatic functions\n",
    "\n",
    "\n",
    "class Write_csv():\n",
    "    def __init__(self,name,keys_to_save):\n",
    "        self.file_name=name\n",
    "        self.the_string=\"{\"+\"},{\".join(keys_to_save)+\"}\\n\"\n",
    "        with open(self.file_name , \"w\") as file :\n",
    "            file.write(\",\".join(keys_to_save)+\"\\n\")#write the first line\n",
    "            assert len(keys_to_save)>0, \"nothing to save\"\n",
    "    def write(self,**values):\n",
    "        with open(self.file_name , \"a\") as file :\n",
    "            file.write(self.the_string.format(**values))\n",
    " \n"
   ]
  },
  {
   "cell_type": "code",
   "execution_count": null,
   "metadata": {
    "collapsed": false
   },
   "outputs": [],
   "source": [
    "\n",
    "\n",
    "def save_agents(simu,*files_info):\n",
    "    \"\"\"every file in files_info is a dictionnary\n",
    "        file[name] -> name of the output file (preceded by {id}_)\n",
    "        file[selection_function] -> send true for all agents concerned by this file\n",
    "        file[extract_info] -> function that extract information from an agent (put in a dictionnary)\n",
    "        file[info_list] -> list of info to store\"\"\"\n",
    "    for file in files_info:\n",
    "        file[\"writter\"]=open(\"data/{}_{}.csv\".format(simu.id_sim,file[\"name\"] ),\"w\")\n",
    "        file[\"writter\"].write(\",\".join(file[\"info_list\"])+\"\\n\")\n",
    "        file[\"the_string\"]=\"{\"+\"},{\".join(file[\"info_list\"])+\"}\\n\"\n",
    "    for agent in simu:\n",
    "        for file in files_info:\n",
    "            if file[\"selection_function\"](agent):\n",
    "                data=file[\"extract_info\"](agent,simu)\n",
    "                file[\"writter\"].write(file[\"the_string\"].format(**data))\n",
    "    for file in files_info:\n",
    "        file[\"writter\"].close()\n",
    "    "
   ]
  },
  {
   "cell_type": "code",
   "execution_count": null,
   "metadata": {
    "collapsed": true
   },
   "outputs": [],
   "source": [
    "def extract(module):\n",
    "    static={}\n",
    "    variable={}\n",
    "    for key in module.__dir__():\n",
    "        if \"__\" not in key:\n",
    "            if key[0] is \"V\":\n",
    "                variable[key[1:]]=module.__dict__[key]\n",
    "            else:\n",
    "                static[key]=module.__dict__[key]\n",
    "    return static,variable\n",
    "\n",
    "\n",
    "def get_parameter_sets(static,**variable):\n",
    "    if not variable:#everything is static\n",
    "        yield static\n",
    "        raise StopIteration\n",
    "    key,new_variable = variable.popitem()# new_variable is the list of values that key should take\n",
    "    for value in new_variable:\n",
    "        static[key]=value\n",
    "        for out in get_parameter_sets(static,**variable):\n",
    "            yield out\n",
    "            \n",
    "def get_parameters(module_name):\n",
    "    s,v=extract(module_name)\n",
    "    return get_parameter_sets(s,**v)"
   ]
  },
  {
   "cell_type": "code",
   "execution_count": null,
   "metadata": {
    "collapsed": true
   },
   "outputs": [],
   "source": [
    "#SIMULATION CREATOR\n",
    "def create_simulation(speed,radius,end,first_watching_before_first_departure,window_size_of_departure,\n",
    "                       time_elasticity,fuel_cost,watching_repetition_average,watching_repetition_variance,\n",
    "                      time_perception_average,time_perception_variance,publishing_advance,benefits,N_driver,N_passenger):\n",
    "    \n",
    "    \n",
    "    #random functions\n",
    "    watching_repetition=get_log_normal(watching_repetition_average,watching_repetition_variance)\n",
    "    time_perception=get_log_normal(time_perception_average,time_perception_variance)\n",
    "    \n",
    "\n",
    "    #agents generator\n",
    "    def SimpleDriver(simulation):\n",
    "        t=simulation.timer.random_time()\n",
    "        O=simulation.network.position_generator()\n",
    "        D=simulation.network.position_generator()\n",
    "        w=(t+first_watching_before_first_departure,t+first_watching_before_first_departure+window_size_of_departure)\n",
    "        A=w[1]+simulation.network.travel_time(O,D)+time_elasticity\n",
    "        return Driver(first_watching_time=t,\n",
    "                      repetition_time=watching_repetition(),\n",
    "                      departure_window=w,\n",
    "                      position=O,destination=D,\n",
    "                      last_arrival_time=A,\n",
    "                      fuel_cost=fuel_cost,\n",
    "                      time_perception=time_perception())\n",
    "    def SimplePassenger(simulation):\n",
    "        t=simulation.timer.random_time()\n",
    "        O=simulation.network.position_generator()\n",
    "        D=simulation.network.position_generator()\n",
    "        return Passenger(publishing_time=t,\n",
    "                         last_departure_time=t+publishing_advance,\n",
    "                         position=O,destination=D)\n",
    "    \n",
    "    N=circle(radius,speed)\n",
    "    T=Timer(end)\n",
    "    simu=Simulation(N,T)\n",
    "    simu.matchingAlgo=MatchingPlatform(benefits,simu)\n",
    "    for i in range(N_driver):\n",
    "        simu.add(SimpleDriver(simu))\n",
    "    for i in range(N_passenger):\n",
    "        simu.add(SimplePassenger(simu))\n",
    "    return simu"
   ]
  },
  {
   "cell_type": "code",
   "execution_count": null,
   "metadata": {
    "collapsed": false
   },
   "outputs": [],
   "source": [
    "#definition of savers :\n",
    "\n",
    "#general\n",
    "to_save=['id_sim', 'nb_passenger','nb_driver','execution_time', 'nb_match','driver_efficiency', 'passenger_efficiency',  \n",
    "         'average_waiting_time','average_vks', 'total_vks']\n",
    "result_file=Write_csv(\"data/general2.csv\",to_save)\n",
    "\n",
    "#passengers\n",
    "def extract_passenger_info(passenger,simu):\n",
    "    m=0\n",
    "    d,w=\"\",\"\"\n",
    "    for t,action in passenger.story:\n",
    "        if action[0] is \"matched\":\n",
    "            m=1\n",
    "            d=action[1][\"driver\"]\n",
    "            w=t\n",
    "            break\n",
    "    if m is 1:#has to compute a waiting time\n",
    "        for t,action in passenger.story:\n",
    "            if action[0] is \"waiting\":\n",
    "                w-=t\n",
    "    out={\"id_num\":passenger.id_number,\"departure_t\":passenger.last_departure_time,\"matched\":m,\"driver\":d,\"waiting_time\":w}\n",
    "    out[\"Ox\"],out[\"Oy\"]=passenger.position\n",
    "    out[\"Dx\"],out[\"Dy\"]=passenger.destination\n",
    "    return out\n",
    "file_passenger={\"name\":\"passengers\",\"selection_function\":lambda x:isinstance(x,Passenger),\n",
    "                \"extract_info\":extract_passenger_info,\"info_list\":[\"id_num\",\"Ox\",\"Oy\",\"Dx\",\"Dy\",\"departure_t\",\"matched\",\"driver\",\"waiting_time\"]}\n",
    "\n",
    "#drivers\n",
    "def extract_driver_info(driver,simu):\n",
    "    m=0\n",
    "    p,v,d=\"\",\"\",\"\"\n",
    "    for _,action in driver.story:\n",
    "        if action[0] is \"matched\":\n",
    "            m=1\n",
    "            p=action[1][\"passenger\"]\n",
    "            break\n",
    "    if m is 1:#do a detour\n",
    "        route=[]\n",
    "        for _,action in driver.story.reverse_iter():\n",
    "            if action[0] is \"moving\" :\n",
    "                route.append(action[1][\"start\"])\n",
    "            elif action[0] is \"arrived\":\n",
    "                route.append(action[1][\"point\"])\n",
    "        v,d=vks_detour(route,simu.network)\n",
    "    out={\"id_num\":driver.id_number,\"departure_t\":driver.departure_window[1],\"matched\":m,\"passenger\":p,\n",
    "         \"value_of_time\":driver.time_perception,\"watching_repetition_time\":driver.repetition_time,\"trip_vks\":v,\"detour\":d}\n",
    "    out[\"Ox\"],out[\"Oy\"]=driver.position\n",
    "    out[\"Dx\"],out[\"Dy\"]=driver.destination\n",
    "    return out\n",
    "file_driver={\"name\":\"drivers\",\"selection_function\":lambda x:isinstance(x,Driver),\n",
    "                \"extract_info\":extract_driver_info,\n",
    "                \"info_list\":[\"id_num\",\"Ox\",\"Oy\",\"Dx\",\"Dy\",\"departure_t\",\"value_of_time\",\"watching_repetition_time\",\"matched\",\"passenger\",\"trip_vks\",\"detour\"]}\n",
    "\n"
   ]
  },
  {
   "cell_type": "code",
   "execution_count": null,
   "metadata": {
    "collapsed": false
   },
   "outputs": [],
   "source": [
    "#execution\n",
    "\n",
    "import config as parameter_file\n",
    "\n",
    "for PARAMETERS in get_parameters(parameter_file):\n",
    "    print(\"begining of simulation with \",PARAMETERS[\"N_driver\"],\" drivers and \",PARAMETERS[\"N_passenger\"],\" passengers\")\n",
    "    #construction\n",
    "    simu=create_simulation(**PARAMETERS)\n",
    "    #execution\n",
    "    simu()\n",
    "    results=extract_result_data(simu)\n",
    "    #saving\n",
    "    result_file.write(**results)\n",
    "    save_agents(simu,file_passenger,file_driver)\n",
    "    \n"
   ]
  },
  {
   "cell_type": "code",
   "execution_count": null,
   "metadata": {
    "collapsed": true
   },
   "outputs": [],
   "source": []
  }
 ],
 "metadata": {
  "kernelspec": {
   "display_name": "Python 3",
   "language": "python",
   "name": "python3"
  },
  "language_info": {
   "codemirror_mode": {
    "name": "ipython",
    "version": 3
   },
   "file_extension": ".py",
   "mimetype": "text/x-python",
   "name": "python",
   "nbconvert_exporter": "python",
   "pygments_lexer": "ipython3",
   "version": "3.5.1"
  }
 },
 "nbformat": 4,
 "nbformat_minor": 0
}
