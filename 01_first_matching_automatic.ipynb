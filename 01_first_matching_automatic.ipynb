{
 "cells": [
  {
   "cell_type": "code",
   "execution_count": 1,
   "metadata": {
    "collapsed": false
   },
   "outputs": [],
   "source": [
    "from CircleNet.system import Simulation\n",
    "from CircleNet.shape import circle,Timer,get_log_normal\n",
    "from CircleNet.shanghai_platform import MatchingPlatform, Driver, Passenger,vks_detour\n",
    "from CircleNet.shanghai_platform_extension import *\n",
    "import numpy as np\n",
    "import time\n",
    "from CircleNet.execution import *\n",
    "from CircleNet.animation import *\n",
    "\n",
    "\n",
    "#TODO\n",
    "\n",
    "#verify the compatibility check -> ?\n",
    "#reorganize packages\n",
    "#review all module dependencies, and nicknames\n",
    "#problem of results?\n",
    "#change name to value of time\n",
    "#finish beautiful file\n",
    "\n",
    "\n",
    "#hide the controlleur\n",
    "#autom parameter show"
   ]
  },
  {
   "cell_type": "code",
   "execution_count": 2,
   "metadata": {
    "collapsed": false
   },
   "outputs": [],
   "source": [
    "#definition of savers :\n",
    "\n",
    "#general\n",
    "to_save=['id_sim', 'nb_passenger','nb_driver','execution_time', 'nb_match','driver_efficiency', 'passenger_efficiency',  \n",
    "         'average_waiting_time','average_vks', 'total_vks']\n",
    "result_file=Write_csv(\"data/general2.csv\",to_save)\n",
    "\n",
    "info_p=[\"id_number\",\"Ox\",\"Oy\",\"Dx\",\"Dy\",\"last_departure_time\",\"matched\",\"driver\",\"waiting\"]\n",
    "option_p={\"position\":(\"Ox\",\"Oy\"),\"destination\":(\"Dx\",\"Dy\")}\n",
    "file_passenger=dict(name=\"passengers\",selection_function=lambda x:isinstance(x,Passenger),info_list=info_p,options_list=option_p)\n",
    "\n",
    "info_d=[\"id_number\",\"Ox\",\"Oy\",\"Dx\",\"Dy\",\"departure_t\",\"value_of_time\",\"repetition_time\",\"watches\",\"viewed_announces\",\"matched\",\"passenger\",\"vks\",\"detour\"]\n",
    "option_d={\"position\":(\"Ox\",\"Oy\"),\"destination\":(\"Dx\",\"Dy\"),\"time_perception\":\"value_of_time\",\"departure_window\":(_,\"departure_t\")}\n",
    "file_driver=dict(name=\"drivers\",selection_function=lambda x:isinstance(x,Driver),info_list=info_d,options_list=option_d)\n",
    "\n"
   ]
  },
  {
   "cell_type": "code",
   "execution_count": 3,
   "metadata": {
    "collapsed": false
   },
   "outputs": [],
   "source": [
    "def f(u):\n",
    "    return \"Simu N'{sim_number}\\n{variable_parameters}\\nTime: \"+format_time(float(u))\n",
    "d=Displayer(text='Waiting...',function_when_display=f,optional_dictionnary=dict(sim_number=0,variable_parameters=\"\"))\n",
    "d.start()\n",
    "\n"
   ]
  },
  {
   "cell_type": "code",
   "execution_count": 4,
   "metadata": {
    "collapsed": false
   },
   "outputs": [],
   "source": [
    "#execution\n",
    "\n",
    "import config as parameter_file\n",
    "\n",
    "for PARAMETERS,message in get_parameters(parameter_file):\n",
    "    #print(\"begining of simulation with \",PARAMETERS[\"N_driver\"],\" drivers and \",PARAMETERS[\"N_passenger\"],\" passengers\")\n",
    "    d.optional_dictionnary[\"sim_number\"]+=1\n",
    "    d.optional_dictionnary[\"variable_parameters\"]=message#\"D=\"+str(PARAMETERS[\"N_driver\"])+\" P=\"+str(PARAMETERS[\"N_passenger\"])\n",
    "    #construction\n",
    "    simu=create_simulation(**PARAMETERS)\n",
    "    if d:\n",
    "        simu.set_action(lambda x: d.change(x.time))\n",
    "    #execution\n",
    "    simu()\n",
    "    results=extract_result_data(simu)\n",
    "    #saving\n",
    "    result_file.write(**results)\n",
    "    save_agents(simu,file_passenger,file_driver)\n",
    "    \n",
    "if d:\n",
    "    d.quit()"
   ]
  },
  {
   "cell_type": "code",
   "execution_count": null,
   "metadata": {
    "collapsed": true
   },
   "outputs": [],
   "source": []
  }
 ],
 "metadata": {
  "kernelspec": {
   "display_name": "Python 3",
   "language": "python",
   "name": "python3"
  },
  "language_info": {
   "codemirror_mode": {
    "name": "ipython",
    "version": 3
   },
   "file_extension": ".py",
   "mimetype": "text/x-python",
   "name": "python",
   "nbconvert_exporter": "python",
   "pygments_lexer": "ipython3",
   "version": "3.5.1"
  }
 },
 "nbformat": 4,
 "nbformat_minor": 0
}
