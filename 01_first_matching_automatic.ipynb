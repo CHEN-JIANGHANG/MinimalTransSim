{
 "cells": [
  {
   "cell_type": "code",
   "execution_count": 48,
   "metadata": {
    "collapsed": true
   },
   "outputs": [],
   "source": [
    "from CircleNet.system import Simulation\n",
    "from CircleNet.shape import circle,Timer,get_log_normal\n",
    "from CircleNet.shanghai_platform import MatchingPlatform, Driver, Passenger\n",
    "from CircleNet.shanghai_platform_extension import extract_result_data\n",
    "import numpy as np\n",
    "import time\n",
    "\n",
    "\n",
    "#TODO\n",
    "#put writting functions somewhere else\n",
    "#put extraction functions somewhere else\n",
    "#reorganise parameters etc in other file\n"
   ]
  },
  {
   "cell_type": "code",
   "execution_count": 49,
   "metadata": {
    "collapsed": true
   },
   "outputs": [],
   "source": [
    "#automatic functions\n",
    "\n",
    "\n",
    "class Write_csv():\n",
    "    def __init__(self,name,keys_to_save):\n",
    "        self.file_name=name\n",
    "        self.the_string=\"{\"+\"},{\".join(keys_to_save)+\"}\\n\"\n",
    "        with open(self.file_name , \"w\") as file :\n",
    "            file.write(\",\".join(keys_to_save)+\"\\n\")#write the first line\n",
    "            assert len(keys_to_save)>0, \"nothing to save\"\n",
    "    def write(self,**values):\n",
    "        with open(self.file_name , \"a\") as file :\n",
    "            file.write(self.the_string.format(**values))\n",
    " \n"
   ]
  },
  {
   "cell_type": "code",
   "execution_count": 50,
   "metadata": {
    "collapsed": false
   },
   "outputs": [],
   "source": [
    "\n",
    "\n",
    "def save_agents(simu,*files_info):\n",
    "    \"\"\"every file in files_info is a dictionnary\n",
    "        file[name] -> name of the output file (preceded by {id}_)\n",
    "        file[selection_function] -> send true for all agents concerned by this file\n",
    "        file[extract_info] -> function that extract information from an agent (put in a dictionnary)\n",
    "        file[info_list] -> list of info to store\"\"\"\n",
    "    for file in files_info:\n",
    "        file[\"writter\"]=open(\"data/{}_{}.csv\".format(simu.id_sim,file[\"name\"] ),\"w\")\n",
    "        file[\"writter\"].write(\",\".join(file[\"info_list\"])+\"\\n\")\n",
    "        file[\"the_string\"]=\"{\"+\"},{\".join(file[\"info_list\"])+\"}\\n\"\n",
    "    for agent in simu:\n",
    "        for file in files_info:\n",
    "            if file[\"selection_function\"](agent):\n",
    "                data=file[\"extract_info\"](agent)\n",
    "                file[\"writter\"].write(file[\"the_string\"].format(**data))\n",
    "    for file in files_info:\n",
    "        file[\"writter\"].close()\n",
    "    "
   ]
  },
  {
   "cell_type": "code",
   "execution_count": 51,
   "metadata": {
    "collapsed": false
   },
   "outputs": [],
   "source": [
    "#simulation parameters\n",
    "\n",
    "#MOVING\n",
    "N_driver_list= [2000]#,3000,4000]#,5000,6000,7000,8000,9000,10000]\n",
    "N_passenger_list= [2000]#,3000,4000]#,5000,6000,7000,8000,9000,10000]\n",
    "\n",
    "\n",
    "\n",
    "\n",
    "\n",
    "PARAMETERS={\n",
    "    \n",
    "    \n",
    "\"speed\": 25, #km/h\n",
    "\"radius\": 25, #km\n",
    "\"end\": 3, #h\n",
    "\n",
    "\n",
    "#in second :\n",
    "#Drivers:\n",
    "\"first_watching_before_first_departure\": 5 * 60,\n",
    "\"window_size_of_departure\": 15 * 60,\n",
    "\"time_elasticity\": 5 * 60,\n",
    "\"fuel_cost\": 0.5,\n",
    "\"watching_repetition_average\": 60, # -> random\n",
    "\"watching_repetition_variance\": 10,\n",
    "\"time_perception_average\": 1 / 300, # = 24 * 50/100 / 3600 #50% of average income, in second   -> random\n",
    "\"time_perception_variance\": 1 / 3000, #10% percent\n",
    "\n",
    "#Passenger\n",
    "\"publishing_advance\": 20 * 60\n",
    "    }\n",
    "\n",
    "def benefits(origin,destination,network):\n",
    "    \"\"\"Shanghai pricing\"\"\"\n",
    "    distance=network.travel_distance(origin,destination)\n",
    "    if distance < 3000: #3n first km fixprice\n",
    "        return 11#in RMB\n",
    "    if distance < 20000:#until 20km at 1.5RMB / km\n",
    "        return 6.5 + distance * 1.5 # 11 + (distance - 3) * 1.5\n",
    "    return 8.5 + distance # 28.5 + (distance - 20) *1   # 28.5 = 3 + (20 - 3) * 1.5\n",
    "PARAMETERS[\"benefits\"]=benefits"
   ]
  },
  {
   "cell_type": "code",
   "execution_count": 52,
   "metadata": {
    "collapsed": true
   },
   "outputs": [],
   "source": [
    "#SIMULATION CREATOR\n",
    "def create_simulation(speed,radius,end,first_watching_before_first_departure,window_size_of_departure,\n",
    "                       time_elasticity,fuel_cost,watching_repetition_average,watching_repetition_variance,\n",
    "                      time_perception_average,time_perception_variance,publishing_advance,benefits,N_driver,N_passenger):\n",
    "    \n",
    "    #transformation in m, s\n",
    "    speed/=3.6\n",
    "    radius*=1000\n",
    "    end*=3600\n",
    "    #random functions\n",
    "    watching_repetition=get_log_normal(watching_repetition_average,watching_repetition_variance)\n",
    "    time_perception=get_log_normal(time_perception_average,time_perception_variance)\n",
    "    \n",
    "\n",
    "    #agents generator\n",
    "    def SimpleDriver(simulation):\n",
    "        t=simulation.timer.random_time()\n",
    "        O=simulation.network.position_generator()\n",
    "        D=simulation.network.position_generator()\n",
    "        w=(t+first_watching_before_first_departure,t+first_watching_before_first_departure+window_size_of_departure)\n",
    "        A=w[1]+simulation.network.travel_time(O,D)+time_elasticity\n",
    "        return Driver(first_watching_time=t,\n",
    "                      repetition_time=watching_repetition(),\n",
    "                      departure_window=w,\n",
    "                      position=O,destination=D,\n",
    "                      last_arrival_time=A,\n",
    "                      fuel_cost=fuel_cost,\n",
    "                      time_perception=time_perception())\n",
    "    def SimplePassenger(simulation):\n",
    "        t=simulation.timer.random_time()\n",
    "        O=simulation.network.position_generator()\n",
    "        D=simulation.network.position_generator()\n",
    "        return Passenger(publishing_time=t,\n",
    "                         last_departure_time=t+publishing_advance,\n",
    "                         position=O,destination=D)\n",
    "    \n",
    "    N=circle(radius,speed)\n",
    "    T=Timer(end)\n",
    "    simu=Simulation(N,T)\n",
    "    simu.matchingAlgo=MatchingPlatform(benefits,simu)\n",
    "    for i in range(N_driver):\n",
    "        simu.add(SimpleDriver(simu))\n",
    "    for i in range(N_passenger):\n",
    "        simu.add(SimplePassenger(simu))\n",
    "    return simu"
   ]
  },
  {
   "cell_type": "code",
   "execution_count": 53,
   "metadata": {
    "collapsed": false
   },
   "outputs": [],
   "source": [
    "#definition of savers :\n",
    "\n",
    "#general\n",
    "to_save=['id_sim', 'nb_passenger','nb_driver','execution_time', 'nb_match','driver_efficiency', 'passenger_efficiency',  \n",
    "         'average_waiting_time','average_vks', 'total_vks']\n",
    "result_file=Write_csv(\"data/first_sims_after_opt.csv\",to_save)\n",
    "\n",
    "#passengers\n",
    "def extract_passenger_info(passenger):\n",
    "    m=0\n",
    "    d=\"\"\n",
    "    for _,action in passenger.story:\n",
    "        if action[0] is \"matched\":\n",
    "            m=1\n",
    "            d=action[1][\"driver\"]\n",
    "            break\n",
    "    out={\"id_num\":passenger.id_number,\"departure_t\":passenger.last_departure_time,\"matched\":m,\"driver\":d}\n",
    "    out[\"Ox\"],out[\"Oy\"]=passenger.position\n",
    "    out[\"Dx\"],out[\"Dy\"]=passenger.destination\n",
    "    return out\n",
    "file_passenger={\"name\":\"passengers\",\"selection_function\":lambda x:isinstance(x,Passenger),\n",
    "                \"extract_info\":extract_passenger_info,\"info_list\":[\"id_num\",\"Ox\",\"Oy\",\"Dx\",\"Dy\",\"departure_t\",\"matched\",\"driver\",\"waiting_time\"]}\n",
    "\n",
    "#drivers\n",
    "def extract_driver_info(driver):\n",
    "    m=0\n",
    "    p,v,d=\"\",\"\",\"\"\n",
    "    for _,action in driver.story:\n",
    "        if action[0] is \"matched\":\n",
    "            m=1\n",
    "            p=action[1][\"passenger\"]\n",
    "            break\n",
    "    out={\"id_num\":driver.id_number,\"departure_t\":driver.departure_window[1],\"matched\":m,\"passenger\":p,\n",
    "         \"value_of_time\":driver.time_perception,\"watching_repetition_time\":driver.repetition_time,\"trip_vks\":v,\"detour\":d}\n",
    "    out[\"Ox\"],out[\"Oy\"]=driver.position\n",
    "    out[\"Dx\"],out[\"Dy\"]=driver.destination\n",
    "    return out\n",
    "file_driver={\"name\":\"drivers\",\"selection_function\":lambda x:isinstance(x,Driver),\n",
    "                \"extract_info\":extract_driver_info,\n",
    "                \"info_list\":[\"id_num\",\"Ox\",\"Oy\",\"Dx\",\"Dy\",\"departure_t\",\"value_of_time\",\"watching_repetition_time\",\"matched\",\"passenger\",\"trip_vks\",\"detour\"]}\n",
    "\n"
   ]
  },
  {
   "cell_type": "code",
   "execution_count": 54,
   "metadata": {
    "collapsed": false
   },
   "outputs": [
    {
     "name": "stdout",
     "output_type": "stream",
     "text": [
      "begining of simulation with  2000  drivers and  2000  passengers\n"
     ]
    }
   ],
   "source": [
    "#execution\n",
    "\n",
    "for N_driver in N_driver_list:\n",
    "    for N_passenger in N_passenger_list :\n",
    "        print(\"begining of simulation with \",N_driver,\" drivers and \",N_passenger,\" passengers\")\n",
    "        #construction\n",
    "        simu=create_simulation(**PARAMETERS,N_driver=N_driver,N_passenger=N_passenger)\n",
    "        #execution\n",
    "        simu()\n",
    "        results=extract_result_data(simu)\n",
    "        #saving\n",
    "        result_file.write(**results)\n",
    "        save_agents(simu,file_passenger,file_driver)\n",
    "    \n"
   ]
  },
  {
   "cell_type": "code",
   "execution_count": null,
   "metadata": {
    "collapsed": true
   },
   "outputs": [],
   "source": []
  }
 ],
 "metadata": {
  "kernelspec": {
   "display_name": "Python 3",
   "language": "python",
   "name": "python3"
  },
  "language_info": {
   "codemirror_mode": {
    "name": "ipython",
    "version": 3
   },
   "file_extension": ".py",
   "mimetype": "text/x-python",
   "name": "python",
   "nbconvert_exporter": "python",
   "pygments_lexer": "ipython3",
   "version": "3.5.1"
  }
 },
 "nbformat": 4,
 "nbformat_minor": 0
}
