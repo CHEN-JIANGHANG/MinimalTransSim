{
 "cells": [
  {
   "cell_type": "code",
   "execution_count": 1,
   "metadata": {
    "collapsed": false
   },
   "outputs": [
    {
     "data": {
      "text/plain": [
       "'Use of shanghai_platform\\none simulation, several draws'"
      ]
     },
     "execution_count": 1,
     "metadata": {},
     "output_type": "execute_result"
    }
   ],
   "source": [
    "\"\"\"Use of shanghai_platform\n",
    "utomatic collection of data\"\"\"\n",
    "\n",
    "\n"
   ]
  },
  {
   "cell_type": "code",
   "execution_count": null,
   "metadata": {
    "collapsed": false
   },
   "outputs": [],
   "source": [
    "\n",
    "from CircleNet.shape import circle,Timer\n",
    "from CircleNet.shanghai_platform import Simulation, MatchingPlatform, Driver, Passenger\n",
    "from  CircleNet.shanghai_platform_extension import Positions_drawing, plot_routes, plot_relative_routes,extract_result_data"
   ]
  },
  {
   "cell_type": "code",
   "execution_count": 4,
   "metadata": {
    "collapsed": false
   },
   "outputs": [],
   "source": [
    "# 1.1 Parameters\n",
    "\n",
    "speed=25 #km/h\n",
    "R=25 #km\n",
    "end=3 #h\n",
    "\n",
    "N_driver=600\n",
    "N_passenger=600\n",
    "\n",
    "\n",
    "#in second :\n",
    "#Drivers:\n",
    "watching_repetition_time=60\n",
    "first_watching_before_first_departure=5*60\n",
    "window_size_of_departure=15*60\n",
    "time_elasticity=5*60\n",
    "fuel_cost=0.5\n",
    "time_perception=5\n",
    "\n",
    "#Passenger\n",
    "publishing_advance=20*60"
   ]
  },
  {
   "cell_type": "code",
   "execution_count": 5,
   "metadata": {
    "collapsed": true
   },
   "outputs": [],
   "source": [
    "# 1.2 Simulation type\n",
    "\n",
    "#transformation in m, s\n",
    "speed/=3.6\n",
    "R*=1000\n",
    "end*=3600\n",
    "\n",
    "def incentive(b):\n",
    "    def o(*a,**k):\n",
    "        return b(*a,**k)+500\n",
    "    return o\n",
    "\n",
    "#benefit for a drive\n",
    "@incentive\n",
    "def benefits(origin,destination,network):\n",
    "    \"\"\"Shanghai pricing\"\"\"\n",
    "    distance=network.travel_distance(origin,destination)\n",
    "    if distance < 3000: #3n first km fixprice\n",
    "        return 11#in RMB\n",
    "    if distance < 20000:#until 20km at 1.5RMB / km\n",
    "        return 6.5 + distance * 1.5 # 11 + (distance - 3) * 1.5\n",
    "    return 8.5 + distance # 28.5 + (distance - 20) *1   # 28.5 = 3 + (20 - 3) * 1.5\n",
    "\n",
    "\n",
    "\n",
    "#agents generator\n",
    "def SimpleDriver(simulation):\n",
    "    t=simulation.timer.random_time()\n",
    "    O=simulation.network.position_generator()\n",
    "    D=simulation.network.position_generator()\n",
    "    w=(t+first_watching_before_first_departure,t+first_watching_before_first_departure+window_size_of_departure)\n",
    "    A=w[1]+simulation.network.travel_time(O,D)+time_elasticity\n",
    "    return Driver(first_watching_time=t,\n",
    "                  repetition_time=watching_repetition_time,\n",
    "                  departure_window=w,\n",
    "                  position=O,destination=D,\n",
    "                  last_arrival_time=A,\n",
    "                  fuel_cost=fuel_cost,\n",
    "                  time_perception=time_perception)\n",
    "def SimplePassenger(simulation):\n",
    "    t=simulation.timer.random_time()\n",
    "    O=simulation.network.position_generator()\n",
    "    D=simulation.network.position_generator()\n",
    "    return Passenger(publishing_time=t,\n",
    "                     last_departure_time=t+publishing_advance,\n",
    "                     position=O,destination=D)\n"
   ]
  },
  {
   "cell_type": "code",
   "execution_count": 6,
   "metadata": {
    "collapsed": false
   },
   "outputs": [],
   "source": [
    "#1.3 Simulation construction\n",
    "\n",
    "N=circle(R,speed)\n",
    "T=Timer(end)\n",
    "simu=Simulation(N,T)\n",
    "\n",
    "\n",
    "simu.matchingAlgo=MatchingPlatform(benefits,simu)\n",
    "\n",
    "\n",
    "for i in range(N_driver):\n",
    "    simu.add(SimpleDriver(simu))\n",
    "for i in range(N_passenger):\n",
    "    simu.add(SimplePassenger(simu))\n",
    "    \n",
    "\n"
   ]
  },
  {
   "cell_type": "code",
   "execution_count": 7,
   "metadata": {
    "collapsed": false
   },
   "outputs": [],
   "source": [
    "#2. Execution\n",
    "\n",
    "#simu.set_action(print,)\n",
    "simu()"
   ]
  },
  {
   "cell_type": "code",
   "execution_count": 8,
   "metadata": {
    "collapsed": false
   },
   "outputs": [
    {
     "name": "stdout",
     "output_type": "stream",
     "text": [
      "{'nb_passenger': 600, 'total_vks': 2086631.2578078047, 'average_waiting_time': 75.4860674168056, 'passenger_efficiency': 0.29833333333333334, 'nb_match': 179, 'average_vks': 11657.157864848072, 'nb_driver': 600, 'driver_efficiency': 0.29833333333333334}\n"
     ]
    }
   ],
   "source": [
    "#3.1 Observations\n",
    "\n",
    "results=extract_result_data(simu)\n",
    "print(results)"
   ]
  },
  {
   "cell_type": "code",
   "execution_count": 9,
   "metadata": {
    "collapsed": false
   },
   "outputs": [
    {
     "data": {
      "text/plain": [
       "<matplotlib.animation.FuncAnimation at 0x7de4cc0>"
      ]
     },
     "execution_count": 9,
     "metadata": {},
     "output_type": "execute_result"
    }
   ],
   "source": [
    "# 3.2 Animation\n",
    "\n",
    "dr=Positions_drawing(simu)\n",
    "dr.set_options(margin=20,real_size=(10,10),time_interval=30,time_coef=1000,repetition=True,hide_axes=True)\n",
    "#%matplotlib notebook\n",
    "dr()"
   ]
  },
  {
   "cell_type": "code",
   "execution_count": 10,
   "metadata": {
    "collapsed": false
   },
   "outputs": [],
   "source": [
    "# 3.3 Route representation\n",
    "\n",
    "\n",
    "#simple route plot\n",
    "plot_routes(simu)\n",
    "\n",
    "#aggregated\n",
    "plot_relative_routes(simu)"
   ]
  },
  {
   "cell_type": "code",
   "execution_count": null,
   "metadata": {
    "collapsed": true
   },
   "outputs": [],
   "source": []
  }
 ],
 "metadata": {
  "kernelspec": {
   "display_name": "Python 3",
   "language": "python",
   "name": "python3"
  },
  "language_info": {
   "codemirror_mode": {
    "name": "ipython",
    "version": 3
   },
   "file_extension": ".py",
   "mimetype": "text/x-python",
   "name": "python",
   "nbconvert_exporter": "python",
   "pygments_lexer": "ipython3",
   "version": "3.5.1"
  }
 },
 "nbformat": 4,
 "nbformat_minor": 0
}
