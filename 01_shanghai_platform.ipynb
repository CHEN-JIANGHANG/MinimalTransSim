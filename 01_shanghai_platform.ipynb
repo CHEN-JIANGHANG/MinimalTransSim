{
 "cells": [
  {
   "cell_type": "code",
   "execution_count": 1,
   "metadata": {
    "collapsed": false
   },
   "outputs": [],
   "source": [
    "#EXECUTION\n",
    "from MinimalTransSim.execution import get_parameters,Write_csv, save_agents\n",
    "from MinimalTransSim.shanghai_platform_extension import *\n",
    "from MinimalTransSim.core import get_id\n",
    "from argparse import Namespace\n",
    "\n",
    "\n",
    "files_name=['config.py']\n",
    "args={\"output_folder\":\"data/\",\"no_detail\":False,\"folder\":None}\n",
    "\n",
    "args=Namespace(**args)#to be similar to the sh-pt.py file\n",
    "configurations=[file[0:-3] for file in files_name]\n",
    "for config in configurations:\n",
    "    try:\n",
    "        parameter_file=__import__(config)#parameter\n",
    "        d=Simu_counter(config)#displayer\n",
    "        d.start()\n",
    "        name=args.output_folder\n",
    "        name+= config+\".csv\" if args.folder else \"{}_{}.csv\".format(get_id(),\"general\")\n",
    "        parameter_list,variable_names=get_parameters(parameter_file)\n",
    "        result_file=Write_csv(name,general_data_to_save+variable_names)#results\n",
    "        for PARAMETERS,message in parameter_list():\n",
    "            d.new_sim(message)#update message in displayer\n",
    "            simu=create_simulation(**PARAMETERS)#creation\n",
    "            simu.set_action(lambda x: d.change(x.time))\n",
    "            simu()#execution\n",
    "            results=extract_result_data(simu)#extraction\n",
    "            result_file.write(**results,**PARAMETERS)#save\n",
    "            if not args.no_detail:\n",
    "                save_agents(simu,args.output_folder,*particular_files)\n",
    "        d.quit()\n",
    "        d.join()\n",
    "    except Exception as e:\n",
    "        print(type(e).__name__,\" for the file '\",config, \"': \",e )"
   ]
  },
  {
   "cell_type": "code",
   "execution_count": 2,
   "metadata": {
    "collapsed": false
   },
   "outputs": [
    {
     "data": {
      "text/plain": [
       "<matplotlib.animation.FuncAnimation at 0xbcf8080>"
      ]
     },
     "execution_count": 2,
     "metadata": {},
     "output_type": "execute_result"
    }
   ],
   "source": [
    "#DRAW ANIMATION\n",
    "dr=Positions_drawing(simu)\n",
    "dr.set_options(margin=20,real_size=(10,10),time_interval=30,time_coef=1000,repetition=True,hide_axes=True)\n",
    "dr()"
   ]
  },
  {
   "cell_type": "code",
   "execution_count": 3,
   "metadata": {
    "collapsed": false
   },
   "outputs": [],
   "source": [
    "#PLOT ROUTES\n",
    "plot_routes(simu)\n",
    "plot_relative_routes(simu)"
   ]
  },
  {
   "cell_type": "code",
   "execution_count": null,
   "metadata": {
    "collapsed": true
   },
   "outputs": [],
   "source": []
  }
 ],
 "metadata": {
  "kernelspec": {
   "display_name": "Python 3",
   "language": "python",
   "name": "python3"
  },
  "language_info": {
   "codemirror_mode": {
    "name": "ipython",
    "version": 3
   },
   "file_extension": ".py",
   "mimetype": "text/x-python",
   "name": "python",
   "nbconvert_exporter": "python",
   "pygments_lexer": "ipython3",
   "version": "3.5.1"
  }
 },
 "nbformat": 4,
 "nbformat_minor": 0
}
