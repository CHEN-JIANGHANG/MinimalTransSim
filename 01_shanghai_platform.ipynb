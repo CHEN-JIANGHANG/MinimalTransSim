{
 "cells": [
  {
   "cell_type": "code",
   "execution_count": 1,
   "metadata": {
    "collapsed": false
   },
   "outputs": [],
   "source": [
    "#EXECUTION\n",
    "from CircleNet.execution import get_parameters,Write_csv, save_agents\n",
    "from CircleNet.shanghai_platform_extension import *\n",
    "\n",
    "\n",
    "import config as parameter_file#parameter\n",
    "d=Simu_counter()#displayer\n",
    "d.start()\n",
    "result_file=Write_csv(\"data/general3.csv\",general_data_to_save)#results\n",
    "\n",
    "for PARAMETERS,message in get_parameters(parameter_file):\n",
    "    d.new_sim(message)#update message in displayer\n",
    "    simu=create_simulation(**PARAMETERS)#creation\n",
    "    simu.set_action(lambda x: d.change(x.time))\n",
    "    simu()#execution\n",
    "    results=extract_result_data(simu)#extraction\n",
    "    result_file.write(**results)#save\n",
    "    save_agents(simu,*particular_files)\n",
    "    \n",
    "d.quit()"
   ]
  },
  {
   "cell_type": "code",
   "execution_count": null,
   "metadata": {
    "collapsed": false
   },
   "outputs": [],
   "source": [
    "#DRAW ANIMATION\n",
    "dr=Positions_drawing(simu)\n",
    "dr.set_options(margin=20,real_size=(10,10),time_interval=30,time_coef=1000,repetition=True,hide_axes=True)\n",
    "dr()"
   ]
  },
  {
   "cell_type": "code",
   "execution_count": null,
   "metadata": {
    "collapsed": false
   },
   "outputs": [],
   "source": [
    "#PLOT ROUTES\n",
    "plot_routes(simu)\n",
    "plot_relative_routes(simu)"
   ]
  },
  {
   "cell_type": "code",
   "execution_count": null,
   "metadata": {
    "collapsed": true
   },
   "outputs": [],
   "source": [
    "#TODO\n",
    "\n",
    "#test ploting hist etc...\n",
    "#problem of results?\n",
    "#change name to value of time\n",
    "#finish beautiful file"
   ]
  }
 ],
 "metadata": {
  "kernelspec": {
   "display_name": "Python 3",
   "language": "python",
   "name": "python3"
  },
  "language_info": {
   "codemirror_mode": {
    "name": "ipython",
    "version": 3
   },
   "file_extension": ".py",
   "mimetype": "text/x-python",
   "name": "python",
   "nbconvert_exporter": "python",
   "pygments_lexer": "ipython3",
   "version": "3.5.1"
  }
 },
 "nbformat": 4,
 "nbformat_minor": 0
}
